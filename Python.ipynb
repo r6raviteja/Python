{
 "cells": [
  {
   "cell_type": "code",
   "execution_count": null,
   "metadata": {},
   "outputs": [],
   "source": [
    "#3 1st answer\n",
    "image location\n",
    "\n",
    "https://github.com/r6raviteja/Python/blob/master/output.JPG"
   ]
  },
  {
   "cell_type": "code",
   "execution_count": 46,
   "metadata": {},
   "outputs": [
    {
     "name": "stdout",
     "output_type": "stream",
     "text": [
      "2002,2009,2016,2023,2037,2044,2051,2058,2072,2079,2086,2093,2107,2114,2121,2128,2142,2149,2156,2163,2177,2184,2191,2198,2212,2219,2226,2233,2247,2254,2261,2268,2282,2289,2296,2303,2317,2324,2331,2338,2352,2359,2366,2373,2387,2394,2401,2408,2422,2429,2436,2443,2457,2464,2471,2478,2492,2499,2506,2513,2527,2534,2541,2548,2562,2569,2576,2583,2597,2604,2611,2618,2632,2639,2646,2653,2667,2674,2681,2688,2702,2709,2716,2723,2737,2744,2751,2758,2772,2779,2786,2793,2807,2814,2821,2828,2842,2849,2856,2863,2877,2884,2891,2898,2912,2919,2926,2933,2947,2954,2961,2968,2982,2989,2996,3003,3017,3024,3031,3038,3052,3059,3066,3073,3087,3094,3101,3108,3122,3129,3136,3143,3157,3164,3171,3178,3192,3199,"
     ]
    }
   ],
   "source": [
    "## 2nd answer\n",
    "\n",
    "for i in range(2000,3201):\n",
    "    if i%7 == 0 and i%5 !=0 :\n",
    "        print(i,end=\",\")"
   ]
  },
  {
   "cell_type": "markdown",
   "metadata": {},
   "source": [
    "# 3ed answer in 2 ways"
   ]
  },
  {
   "cell_type": "code",
   "execution_count": 14,
   "metadata": {},
   "outputs": [
    {
     "name": "stdout",
     "output_type": "stream",
     "text": [
      "Enter first nameravi\n",
      "Enter last nameteja\n",
      "ajet ivar\n"
     ]
    }
   ],
   "source": [
    "fn=input(\"Enter first name\")\n",
    "ln=input(\"Enter last name\")\n",
    "s=fn+\" \"+ln\n",
    "print(s[::-1])"
   ]
  },
  {
   "cell_type": "code",
   "execution_count": 23,
   "metadata": {},
   "outputs": [
    {
     "name": "stdout",
     "output_type": "stream",
     "text": [
      "Enter first nameravi\n",
      "Enter last nameteja\n",
      "ajet ivar\n"
     ]
    }
   ],
   "source": [
    "fn=input(\"Enter first name\")\n",
    "ln=input(\"Enter last name\")\n",
    "s1=fn+\" \"+ln\n",
    "s=''\n",
    "for i in range(len(s1),0,-1):\n",
    "    s=s+s1[i-1]\n",
    "print(s)"
   ]
  },
  {
   "cell_type": "markdown",
   "metadata": {},
   "source": []
  },
  {
   "cell_type": "code",
   "execution_count": 28,
   "metadata": {},
   "outputs": [
    {
     "name": "stdout",
     "output_type": "stream",
     "text": [
      "volume of sphere with diametr 12cm is : 150.72\n"
     ]
    }
   ],
   "source": [
    "dia=12\n",
    "radius=dia/2\n",
    "\n",
    "v = (4/3)* 3.14 * (radius**2)\n",
    "print(\"volume of sphere with diametr 12cm is : \"+str(v))"
   ]
  },
  {
   "cell_type": "code",
   "execution_count": null,
   "metadata": {},
   "outputs": [],
   "source": []
  },
  {
   "cell_type": "markdown",
   "metadata": {},
   "source": [
    "## Task 2"
   ]
  },
  {
   "cell_type": "code",
   "execution_count": 31,
   "metadata": {},
   "outputs": [
    {
     "name": "stdout",
     "output_type": "stream",
     "text": [
      "enter numbers1,2,3\n",
      "List of given numbers \n",
      "['1', '2', '3']\n"
     ]
    }
   ],
   "source": [
    "a=input(\"enter numbers\")\n",
    "l=a.split(\",\")\n",
    "print(\"List of given numbers \" )\n",
    "print(l)"
   ]
  },
  {
   "cell_type": "code",
   "execution_count": null,
   "metadata": {},
   "outputs": [],
   "source": []
  },
  {
   "cell_type": "code",
   "execution_count": 40,
   "metadata": {},
   "outputs": [
    {
     "name": "stdout",
     "output_type": "stream",
     "text": [
      "\n",
      "* \n",
      "* * \n",
      "* * * \n",
      "* * * * \n",
      "* * * * * \n",
      "* * * * \n",
      "* * * \n",
      "* * \n",
      "* \n"
     ]
    }
   ],
   "source": [
    "for i in range(6):\n",
    "    if i<6:\n",
    "        for j in range(i):\n",
    "            print(\"*\",end=\" \")\n",
    "        print()\n",
    "for i in range(4,0,-1):\n",
    "    for j in range(i):\n",
    "        print(\"*\",end=\" \")\n",
    "    print()"
   ]
  },
  {
   "cell_type": "code",
   "execution_count": 43,
   "metadata": {},
   "outputs": [
    {
     "name": "stdout",
     "output_type": "stream",
     "text": [
      "Enter any textvhgva\n",
      "\n",
      "reversed string :avghv\n"
     ]
    }
   ],
   "source": [
    "s=input(\"Enter any text \")\n",
    "print()\n",
    "print(\"reversed string :\"+ s[::-1])"
   ]
  },
  {
   "cell_type": "code",
   "execution_count": 45,
   "metadata": {},
   "outputs": [
    {
     "name": "stdout",
     "output_type": "stream",
     "text": [
      "input_sentence : WE, THE PEOPLE OF INDIA, having solemnly resolved to constitute India into a SOVEREIGN, SOCIALIST, SECULAR, DEMOCRATIC REPUBLIC and to secure to all its citizens\n",
      "\n",
      "\n",
      "\n",
      "Formatted sentence : WE, THE PEOPLE OF INDIA,\n",
      "having solemnly resolved to constitute India into a SOVEREIGN, !\n",
      "SOCIALIST, SECULAR, DEMOCRATIC REPUBLIC \n",
      "and to secure to all its citizens:\n"
     ]
    }
   ],
   "source": [
    "input_sentence = \"WE, THE PEOPLE OF INDIA, having solemnly resolved to constitute India into a SOVEREIGN, SOCIALIST, SECULAR, DEMOCRATIC REPUBLIC and to secure to all its citizens\"\n",
    "print (\"input_sentence : \" + input_sentence)\n",
    "\n",
    "print (\"\\n\\n\")\n",
    "\n",
    "formatted_sentence = input_sentence.replace(\"INDIA, \", \"INDIA,\\n\").replace(\"SOVEREIGN, \", \"SOVEREIGN, !\\n\").replace(\"REPUBLIC \", \"REPUBLIC \\n\") + (\":\")\n",
    "print (\"Formatted sentence : \" + formatted_sentence)"
   ]
  },
  {
   "cell_type": "code",
   "execution_count": null,
   "metadata": {},
   "outputs": [],
   "source": []
  }
 ],
 "metadata": {
  "kernelspec": {
   "display_name": "Python 3",
   "language": "python",
   "name": "python3"
  },
  "language_info": {
   "codemirror_mode": {
    "name": "ipython",
    "version": 3
   },
   "file_extension": ".py",
   "mimetype": "text/x-python",
   "name": "python",
   "nbconvert_exporter": "python",
   "pygments_lexer": "ipython3",
   "version": "3.7.6"
  }
 },
 "nbformat": 4,
 "nbformat_minor": 4
}
